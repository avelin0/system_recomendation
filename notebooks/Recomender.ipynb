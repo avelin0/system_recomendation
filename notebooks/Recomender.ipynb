{
 "cells": [
  {
   "cell_type": "code",
   "execution_count": 3,
   "metadata": {},
   "outputs": [
    {
     "data": {
      "text/html": [
       "<div>\n",
       "<style>\n",
       "    .dataframe thead tr:only-child th {\n",
       "        text-align: right;\n",
       "    }\n",
       "\n",
       "    .dataframe thead th {\n",
       "        text-align: left;\n",
       "    }\n",
       "\n",
       "    .dataframe tbody tr th {\n",
       "        vertical-align: top;\n",
       "    }\n",
       "</style>\n",
       "<table border=\"1\" class=\"dataframe\">\n",
       "  <thead>\n",
       "    <tr style=\"text-align: right;\">\n",
       "      <th></th>\n",
       "      <th>movieId</th>\n",
       "      <th>title</th>\n",
       "      <th>genres</th>\n",
       "      <th>userId</th>\n",
       "      <th>rating</th>\n",
       "    </tr>\n",
       "  </thead>\n",
       "  <tbody>\n",
       "    <tr>\n",
       "      <th>0</th>\n",
       "      <td>1</td>\n",
       "      <td>Toy Story (1995)</td>\n",
       "      <td>[Adventure, Animation, Children, Comedy, Fantasy]</td>\n",
       "      <td>7</td>\n",
       "      <td>3.0</td>\n",
       "    </tr>\n",
       "    <tr>\n",
       "      <th>1</th>\n",
       "      <td>1</td>\n",
       "      <td>Toy Story (1995)</td>\n",
       "      <td>[Adventure, Animation, Children, Comedy, Fantasy]</td>\n",
       "      <td>9</td>\n",
       "      <td>4.0</td>\n",
       "    </tr>\n",
       "    <tr>\n",
       "      <th>2</th>\n",
       "      <td>1</td>\n",
       "      <td>Toy Story (1995)</td>\n",
       "      <td>[Adventure, Animation, Children, Comedy, Fantasy]</td>\n",
       "      <td>13</td>\n",
       "      <td>5.0</td>\n",
       "    </tr>\n",
       "    <tr>\n",
       "      <th>3</th>\n",
       "      <td>1</td>\n",
       "      <td>Toy Story (1995)</td>\n",
       "      <td>[Adventure, Animation, Children, Comedy, Fantasy]</td>\n",
       "      <td>15</td>\n",
       "      <td>2.0</td>\n",
       "    </tr>\n",
       "    <tr>\n",
       "      <th>4</th>\n",
       "      <td>1</td>\n",
       "      <td>Toy Story (1995)</td>\n",
       "      <td>[Adventure, Animation, Children, Comedy, Fantasy]</td>\n",
       "      <td>19</td>\n",
       "      <td>3.0</td>\n",
       "    </tr>\n",
       "  </tbody>\n",
       "</table>\n",
       "</div>"
      ],
      "text/plain": [
       "   movieId             title  \\\n",
       "0        1  Toy Story (1995)   \n",
       "1        1  Toy Story (1995)   \n",
       "2        1  Toy Story (1995)   \n",
       "3        1  Toy Story (1995)   \n",
       "4        1  Toy Story (1995)   \n",
       "\n",
       "                                              genres  userId  rating  \n",
       "0  [Adventure, Animation, Children, Comedy, Fantasy]       7     3.0  \n",
       "1  [Adventure, Animation, Children, Comedy, Fantasy]       9     4.0  \n",
       "2  [Adventure, Animation, Children, Comedy, Fantasy]      13     5.0  \n",
       "3  [Adventure, Animation, Children, Comedy, Fantasy]      15     2.0  \n",
       "4  [Adventure, Animation, Children, Comedy, Fantasy]      19     3.0  "
      ]
     },
     "execution_count": 3,
     "metadata": {},
     "output_type": "execute_result"
    }
   ],
   "source": [
    "import pandas as pd\n",
    "import numpy as np\n",
    "\n",
    "r_cols = ['userId', 'movieId', 'rating']\n",
    "ratings = pd.read_csv('../ml-latest-small/ratings.csv', sep=',', names=r_cols, usecols=range(3), encoding=\"ISO-8859-1\", header=None, skiprows=1)\n",
    "#ratings = pd.read_csv('../ml-1m/ratings.dat', sep='::', names=r_cols, usecols=range(3), encoding=\"ISO-8859-1\", header=None, skiprows=1)\n",
    "\n",
    "m_cols = ['movieId', 'title','genres']\n",
    "movies = pd.read_csv('../ml-latest-small/movies.csv', sep=',', names=m_cols, usecols=range(3), encoding=\"ISO-8859-1\", header=None, skiprows=1)\n",
    "#movies = pd.read_csv('../ml-1m/movies.dat', sep='::', names=m_cols, usecols=range(3), encoding=\"ISO-8859-1\", header=None, skiprows=1)\n",
    "\n",
    "movies['genres'] = movies['genres'].apply(lambda x: x.split('|'))\n",
    "ratings = pd.merge(movies, ratings)\n",
    "\n",
    "ratings['rating'] = ratings['rating'].map(float)\n",
    "userRatings = ratings.pivot_table(index=['userId'],columns=['title'],values='rating', aggfunc='first',fill_value=float('nan'))\n",
    "ratings.head()"
   ]
  },
  {
   "cell_type": "markdown",
   "metadata": {},
   "source": [
    "Escolhemos um usuário:"
   ]
  },
  {
   "cell_type": "code",
   "execution_count": 17,
   "metadata": {},
   "outputs": [
    {
     "name": "stdout",
     "output_type": "stream",
     "text": [
      "title\n",
      "Usual Suspects, The (1995)                               5.0\n",
      "Star Wars: Episode IV - A New Hope (1977)                5.0\n",
      "Fight Club (1999)                                        5.0\n",
      "Godfather, The (1972)                                    5.0\n",
      "Godfather: Part II, The (1974)                           5.0\n",
      "Shawshank Redemption, The (1994)                         5.0\n",
      "Dark Knight, The (2008)                                  5.0\n",
      "Star Wars: Episode V - The Empire Strikes Back (1980)    5.0\n",
      "Hobbit: An Unexpected Journey, The (2012)                4.5\n",
      "Matrix, The (1999)                                       4.5\n",
      "Jackal, The (1997)                                       3.5\n",
      "U.S. Marshals (1998)                                     3.5\n",
      "Ocean's Thirteen (2007)                                  3.0\n",
      "Tango & Cash (1989)                                      3.0\n",
      "Police Academy 4: Citizens on Patrol (1987)              2.5\n",
      "Lethal Weapon 4 (1998)                                   2.5\n",
      "Under Siege 2: Dark Territory (1995)                     2.0\n",
      "Mortal Kombat: Annihilation (1997)                       2.0\n",
      "Rush Hour 2 (2001)                                       2.0\n",
      "Hot Shots! (1991)                                        2.0\n",
      "Romeo Must Die (2000)                                    2.0\n",
      "Under Siege (1992)                                       2.0\n",
      "Police Academy 2: Their First Assignment (1985)          2.0\n",
      "Police Academy: Mission to Moscow (1994)                 0.5\n",
      "Name: 643, dtype: float64\n"
     ]
    }
   ],
   "source": [
    "myUserRatings = userRatings.loc[643].dropna()\n",
    "#643 => sw, 205 => bastante ativo,  \n",
    "print(myUserRatings.sort_values(ascending = False));"
   ]
  },
  {
   "cell_type": "markdown",
   "metadata": {},
   "source": [
    "Montamos uma matriz de correlação entre os usuários:"
   ]
  },
  {
   "cell_type": "code",
   "execution_count": 15,
   "metadata": {},
   "outputs": [
    {
     "name": "stdout",
     "output_type": "stream",
     "text": [
      "Terminou\n"
     ]
    }
   ],
   "source": [
    "corrMatrix = userRatings.corr(method='spearman', min_periods=50)\n",
    "print(\"Terminou\")"
   ]
  },
  {
   "cell_type": "code",
   "execution_count": 20,
   "metadata": {},
   "outputs": [
    {
     "name": "stdout",
     "output_type": "stream",
     "text": [
      "Star Wars: Episode VI - Return of the Jedi (1983)                                 14.737678\n",
      "Raiders of the Lost Ark (Indiana Jones and the Raiders of the Lost Ark) (1981)    13.420385\n",
      "Monsters, Inc. (2001)                                                             13.387387\n",
      "Braveheart (1995)                                                                 12.813997\n",
      "Lord of the Rings: The Two Towers, The (2002)                                     12.744224\n",
      "Back to the Future (1985)                                                         11.773822\n",
      "Lord of the Rings: The Fellowship of the Ring, The (2001)                         11.735641\n",
      "Incredibles, The (2004)                                                           11.013039\n",
      "Lord of the Rings: The Return of the King, The (2003)                             10.953009\n",
      "Untouchables, The (1987)                                                          10.557613\n",
      "Jurassic Park (1993)                                                              10.419330\n",
      "Hunt for Red October, The (1990)                                                  10.248720\n",
      "Blade Runner (1982)                                                               10.022153\n",
      "Memento (2000)                                                                     9.995086\n",
      "Spider-Man (2002)                                                                  9.975549\n",
      "dtype: float64\n"
     ]
    }
   ],
   "source": [
    "simCandidates = pd.Series()\n",
    "for i in range(0, len(myUserRatings.index)):\n",
    "    sims = corrMatrix[myUserRatings.index[i]].dropna()\n",
    "    sims = sims.map(lambda x: x * myUserRatings[i])\n",
    "    simCandidates = simCandidates.append(sims)\n",
    "    \n",
    "simCandidates.sort_values(inplace = True, ascending = False)\n",
    "simCandidates = simCandidates.groupby(simCandidates.index).sum()\n",
    "simCandidates.sort_values(inplace = True, ascending = False)\n",
    "filteredSims = simCandidates.drop(myUserRatings.index, errors = 'ignore')\n",
    "\n",
    "print (filteredSims.head(15))"
   ]
  },
  {
   "cell_type": "code",
   "execution_count": 19,
   "metadata": {},
   "outputs": [
    {
     "data": {
      "text/plain": [
       "Star Wars: Episode IV - A New Hope (1977)                17.037138\n",
       "Star Wars: Episode V - The Empire Strikes Back (1980)    16.909760\n",
       "Godfather: Part II, The (1974)                           16.233407\n",
       "Dark Knight, The (2008)                                  15.889743\n",
       "Fight Club (1999)                                        15.594509\n",
       "dtype: float64"
      ]
     },
     "execution_count": 19,
     "metadata": {},
     "output_type": "execute_result"
    }
   ],
   "source": [
    "simCandidates.head()"
   ]
  },
  {
   "cell_type": "code",
   "execution_count": null,
   "metadata": {
    "collapsed": true
   },
   "outputs": [],
   "source": []
  }
 ],
 "metadata": {
  "kernelspec": {
   "display_name": "Python 3",
   "language": "python",
   "name": "python3"
  },
  "language_info": {
   "codemirror_mode": {
    "name": "ipython",
    "version": 2
   },
   "file_extension": ".py",
   "mimetype": "text/x-python",
   "name": "python",
   "nbconvert_exporter": "python",
   "pygments_lexer": "ipython2",
   "version": "2.7.12"
  }
 },
 "nbformat": 4,
 "nbformat_minor": 2
}
